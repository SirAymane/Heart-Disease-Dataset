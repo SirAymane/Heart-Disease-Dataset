{
 "cells": [
  {
   "cell_type": "markdown",
   "metadata": {},
   "source": [
    "# Heart Disease Dataset"
   ]
  },
  {
   "cell_type": "markdown",
   "metadata": {},
   "source": [
    "    · Aymane El Hanbali Halloum\n",
    "    · Marc Coca Moreno\n",
    "    · Melania Prado Gutierrez\n",
    "    · Siddique Muhammad  "
   ]
  },
  {
   "cell_type": "markdown",
   "metadata": {},
   "source": [
    "# Introducción\n",
    "\n",
    "Este trabajo tiene por objetivo exponer los resultados principales del análisis del juego de datos **Heart Disease Dataset**. Originalmente, el dataset puede encontrarse en el repositorio *UCI Machine Learning Repository*:\n",
    "\n",
    "· https://archive.ics.uci.edu/ml/datasets/heart+disease\n",
    "\n",
    "Para la práctica, se ha utilizado la versión simplificada de Kaggle:\n",
    "\n",
    "· https://www.kaggle.com/datasets/johnsmith88/heart-disease-dataset\n",
    "\n",
    "El trabajo se divide en dos grandes partes: (1) el -presente- documento introductorio, donde se explica qué contiene el dataset y la limpieza inicial y (2) los documentos individuales donde cada uno de los miembros del grupo formulan 3 preguntas y las contestan de forma visual.\n",
    "\n",
    "A continuación, se pasan a responder las preguntas de la práctica y la limpieza de los datos"
   ]
  },
  {
   "cell_type": "markdown",
   "metadata": {},
   "source": [
    "# Importación del Dataset\n",
    "\n",
    "## Contexto: ¿qué son estos datos? Pon referencias\n",
    "\n",
    "El dataset, originalmente publicado en 1988 por Andras Janosi et al., es una base de datos que tiene por objetivo clasificar los individuos observados entre si presentan o no algun tipo de enfermedad en el corazón.\n",
    "\n",
    "Es un juego de datos ya clásico y modelo del que se han derivado multitud de investigaciones y experimentos docentes. Pueden verse los resultados de los autores en:\n",
    "\n",
    "    · Detrano, R., Janosi, A., Steinbrunn, W., Pfisterer, M., Schmid, J., Sandhu, S., Guppy, K., Lee, S., & Froelicher, V. (1989). International application of a new probability algorithm for the diagnosis of coronary artery disease. American Journal of Cardiology, 64,304-310.\n",
    "\n",
    "    · David W. Aha & Dennis Kibler. \"Instance-based prediction of heart-disease presence with the Cleveland database\"\n",
    "\n",
    "    · Gennari, J.H., Langley, P, & Fisher, D. (1989). Models of incremental concept formation. Artificial Intelligence, 40, 11-61.\n",
    "\n",
    "Las definiciones pueden encontrarse en las páginas referenciadas en el apartado anterior.\n",
    "\n",
    "## Explicar las columnas\n",
    "\n",
    "La base de datos se estructura a nivel de persona (una fila/registro, una persona) y la variable objetivo és 'target', que muestra un 0 si no tiene ninguna enfermada o 1 en caso contrario. Originalmente, la variable objetivo presentava 5 valores ordinales en función de la gravedad: 0 si no había ninguna enfermedad y 1-4 según enfermedad y riesgo.\n",
    "\n",
    "Los datos aquí utilizados (heart.csv) presentan la siguiente estructura: 1.025 registros por 14 variables.\n",
    "\n",
    "Las variables son:\n",
    "\n",
    "| Variable | tipo | Definición |\n",
    "| --- | --- | --- |\n",
    "| age | entero (int) | Edad del individuo en el momento del registro |\n",
    "| sex | binaria/categórica (int)| Sexo del individuo en el momento del registro: 0 para mujeres, 1 para hombres |\n",
    "| cp | categórica (int) | dolor torácico (4 valores ordinales): angina típica (0), angina atípica (1), dolor torácico no anginoso (2), asintomático (3) |\n",
    "| trestbps | entero (int) | presión arterial en reposo\n",
    "| chol | entero (int) | colesterol sérico en mg/dl |\n",
    "| fbs | binaria/categórica (int) | Azúcar en sangre en ayunas > 120 mg/dl: verdarero (1), falso (0) | \n",
    "| restecg | categórica ordinal (de mejor a peor) (int) | resultados electrocardiográficos en reposo: normal (0), anormalidad de onda ST-T (1), hipertrofia ventricular probable o definitiva (2) | \n",
    "| thalach | entero (int) | frecuencia cardíaca máxima alcanzada |\n",
    "| exang | binaria/categórica (int) | angina inducida por el ejercicio: 0 no, 1 sí |\n",
    "| oldpeak | numérico (float) | descenso del segmento ST inducido por el ejercicio (mayor el valor, peor el pronóstico) | \n",
    "| slope | categórica (int) | pendiente del segmento ST en el pico del ejercicio (esfuerzo): 0 ascendente, 1 estanco, 2 descendente\n",
    "| ca | entero (int) | principales vasos del corazón destacados por fluorescencia | \n",
    "| thal | categórico (int) | thalasemia: 1 normal, 2 defecto crónico, 3 reversible.\n",
    "| **target** | binaria/categórica (int) | 0 no presenta coronariopatía y 1 sí presenta\n",
    "\n",
    "## ¿Cuantas filas hay?\n",
    "\n",
    "La siguiente función devuelve el número de filas del juego de datos"
   ]
  },
  {
   "cell_type": "code",
   "execution_count": 1,
   "metadata": {},
   "outputs": [
    {
     "data": {
      "text/plain": [
       "1025"
      ]
     },
     "execution_count": 1,
     "metadata": {},
     "output_type": "execute_result"
    }
   ],
   "source": [
    "from scripts.marc.ex1 import n_rows\n",
    "\n",
    "n_rows(\"heart.csv\")"
   ]
  },
  {
   "cell_type": "markdown",
   "metadata": {},
   "source": [
    "## ¿Hay NAs?\n",
    "\n",
    "A continuación, se pasa a investigar si existen valores NAs"
   ]
  },
  {
   "cell_type": "code",
   "execution_count": 1,
   "metadata": {},
   "outputs": [
    {
     "name": "stdout",
     "output_type": "stream",
     "text": [
      "# Reading file...\n",
      "# Counting NaN values by col..\n",
      "# ...age: 0 NaN values\n",
      "# ...sex: 0 NaN values\n",
      "# ...cp: 0 NaN values\n",
      "# ...trestbps: 0 NaN values\n",
      "# ...chol: 0 NaN values\n",
      "# ...fbs: 0 NaN values\n",
      "# ...restecg: 0 NaN values\n",
      "# ...thalach: 0 NaN values\n",
      "# ...exang: 0 NaN values\n",
      "# ...oldpeak: 0 NaN values\n",
      "# ...slope: 0 NaN values\n",
      "# ...ca: 0 NaN values\n",
      "# ...thal: 0 NaN values\n",
      "# ...target: 0 NaN values\n",
      "--------------------\n"
     ]
    },
    {
     "data": {
      "text/html": [
       "<div>\n",
       "<style scoped>\n",
       "    .dataframe tbody tr th:only-of-type {\n",
       "        vertical-align: middle;\n",
       "    }\n",
       "\n",
       "    .dataframe tbody tr th {\n",
       "        vertical-align: top;\n",
       "    }\n",
       "\n",
       "    .dataframe thead th {\n",
       "        text-align: right;\n",
       "    }\n",
       "</style>\n",
       "<table border=\"1\" class=\"dataframe\">\n",
       "  <thead>\n",
       "    <tr style=\"text-align: right;\">\n",
       "      <th></th>\n",
       "      <th>age</th>\n",
       "      <th>sex</th>\n",
       "      <th>cp</th>\n",
       "      <th>trestbps</th>\n",
       "      <th>chol</th>\n",
       "      <th>fbs</th>\n",
       "      <th>restecg</th>\n",
       "      <th>thalach</th>\n",
       "      <th>exang</th>\n",
       "      <th>oldpeak</th>\n",
       "      <th>slope</th>\n",
       "      <th>ca</th>\n",
       "      <th>thal</th>\n",
       "      <th>target</th>\n",
       "    </tr>\n",
       "  </thead>\n",
       "  <tbody>\n",
       "    <tr>\n",
       "      <th>0</th>\n",
       "      <td>0</td>\n",
       "      <td>0</td>\n",
       "      <td>0</td>\n",
       "      <td>0</td>\n",
       "      <td>0</td>\n",
       "      <td>0</td>\n",
       "      <td>0</td>\n",
       "      <td>0</td>\n",
       "      <td>0</td>\n",
       "      <td>0</td>\n",
       "      <td>0</td>\n",
       "      <td>0</td>\n",
       "      <td>0</td>\n",
       "      <td>0</td>\n",
       "    </tr>\n",
       "  </tbody>\n",
       "</table>\n",
       "</div>"
      ],
      "text/plain": [
       "   age  sex  cp  trestbps  chol  fbs  restecg  thalach  exang  oldpeak  slope  \\\n",
       "0    0    0   0         0     0    0        0        0      0        0      0   \n",
       "\n",
       "   ca  thal  target  \n",
       "0   0     0       0  "
      ]
     },
     "execution_count": 1,
     "metadata": {},
     "output_type": "execute_result"
    }
   ],
   "source": [
    "from scripts.marc.ex1 import count_na_by_col\n",
    "\n",
    "count_na_by_col(\"heart.csv\")"
   ]
  },
  {
   "cell_type": "markdown",
   "metadata": {},
   "source": [
    "Perfecto, el juego de datos tiene todas las variables informadas."
   ]
  },
  {
   "cell_type": "markdown",
   "metadata": {},
   "source": [
    "# Arreglar el dataset"
   ]
  },
  {
   "cell_type": "markdown",
   "metadata": {},
   "source": [
    "## ¿El dataset está en formato tidy?\n",
    "\n",
    "En este caso, sí, el dataset se encuentra estructurado en formato tidy: cada fila representa la observación de interés (el individuo) y cada columna una variable asociada a el. No existen ni duplicados, ni variables repetitivas por valores.\n",
    "\n",
    "Cada observación es única."
   ]
  },
  {
   "cell_type": "markdown",
   "metadata": {},
   "source": [
    "## Arreglos adicionales: etiquetas\n",
    "\n",
    "Si bien el dataset dispone de una estructura y calidad perfecta, para análisis posteriores y gráficas finales, resulta de interés agregar las etiquetas a las distintas variables categóricas.\n",
    "\n",
    "En este apartado, se recupera el dataset original y se cambian los valores de las variables no numéricas al concepto que le corresponde según la tabla de definiciones que se ha realizado anteriormente.\n",
    "\n",
    "El resultado es el archivo **heart_labels.csv**."
   ]
  },
  {
   "cell_type": "code",
   "execution_count": 1,
   "metadata": {},
   "outputs": [
    {
     "name": "stdout",
     "output_type": "stream",
     "text": [
      "# Changing sex variable...\n",
      "# Changing cp variable...\n",
      "# Changing fbs variable...\n",
      "# Changing restecg variable...\n",
      "# Changing exang variable...\n",
      "# Changing slope variable...\n",
      "# Changing thal variable...\n",
      "# Changing target variable...\n"
     ]
    }
   ],
   "source": [
    "from scripts.marc.ex2 import rename_categorical_vars\n",
    "from pandas import DataFrame\n",
    "\n",
    "heart_labels: DataFrame = rename_categorical_vars(\"heart.csv\")\n",
    "heart_labels.to_csv(\"data/heart_labels.csv\", index=False, sep=\",\", decimal=\".\")"
   ]
  },
  {
   "cell_type": "markdown",
   "metadata": {},
   "source": [
    "# Outliers e inconsistencias\n",
    "\n",
    "En este apartado pasamos a investigar si existen inconsistencias en los datos, así como valors atípicamente extremos que puedan perjudicar el análisis."
   ]
  },
  {
   "cell_type": "markdown",
   "metadata": {},
   "source": [
    "## Outliers\n",
    "\n",
    "Para identificar los outliers se utilizará la técnica clásica del boxplot: se considerará outlier (X) aquel valor que esté por encima o debajo del valor: \n",
    "\n",
    "$$Q1-1.5*IQR<X>Q3+1.5*IQR$$\n",
    "\n",
    "Este procedimiento sólo afecta a las variables numéricas.\n",
    "\n",
    "Primero, se obtiene el recuento de observacions atípicas por variable numérica"
   ]
  },
  {
   "cell_type": "code",
   "execution_count": 2,
   "metadata": {},
   "outputs": [
    {
     "name": "stdout",
     "output_type": "stream",
     "text": [
      "   age  trestbps  chol  thalach  oldpeak  ca\n",
      "0    0        30    16        4        7  87\n"
     ]
    }
   ],
   "source": [
    "from scripts.marc.ex3 import get_outliers_count\n",
    "\n",
    "get_outliers_count(\"heart_labels.csv\")"
   ]
  },
  {
   "cell_type": "markdown",
   "metadata": {},
   "source": [
    "Se observa como, por ejemplo, la edad no presenta ningún valor atípico. La que más disparidad registra es 'ca': principales vasos del corazón destacados por fluorescencia.\n",
    "\n",
    "Ahora, pasamos a visualizar estos datos mediante boxplot."
   ]
  },
  {
   "cell_type": "code",
   "execution_count": 1,
   "metadata": {},
   "outputs": [
    {
     "data": {
      "text/plain": [
       "<seaborn.axisgrid.FacetGrid at 0x7f7c8030ffd0>"
      ]
     },
     "execution_count": 1,
     "metadata": {},
     "output_type": "execute_result"
    },
    {
     "data": {
      "image/png": "[encoded data removed]",
      "text/plain": [
       "<Figure size 1000x1500 with 6 Axes>"
      ]
     },
     "metadata": {},
     "output_type": "display_data"
    }
   ],
   "source": [
    "from scripts.marc.ex3 import facet_boxplots\n",
    "\n",
    "facet_boxplots(\"heart_labels.csv\")"
   ]
  },
  {
   "cell_type": "markdown",
   "metadata": {},
   "source": [
    "Con todo ello, podemos ver como los valors más extremos se centran en las categorías de medidas físicas, como la presión arterial y, tambén, en ca. La variable ca, no obstante, es un recuento donde muchos valores son 0 y, por lo tanto, es de esperar una sobredetección de valores extremos.\n",
    "\n",
    "En cualquier caso, se decide no eliminar ninguna observación."
   ]
  },
  {
   "cell_type": "markdown",
   "metadata": {},
   "source": [
    "# conclusiones\n",
    "\n",
    "En este apartado introductorio se ha analizado el juego de datos inicial, se han etiquetado aquellas variables categóricas y, finalmente, se ha comprobado la consistencia de las variables numéricas.\n",
    "\n",
    "Finalmente, se procede a realizar el archivo final."
   ]
  },
  {
   "cell_type": "code",
   "execution_count": 1,
   "metadata": {},
   "outputs": [
    {
     "name": "stdout",
     "output_type": "stream",
     "text": [
      "# Changing sex variable...\n",
      "# Changing cp variable...\n",
      "# Changing fbs variable...\n",
      "# Changing restecg variable...\n",
      "# Changing exang variable...\n",
      "# Changing slope variable...\n",
      "# Changing thal variable...\n",
      "# Changing target variable...\n"
     ]
    }
   ],
   "source": [
    "from scripts.marc.ex2 import rename_categorical_vars\n",
    "from pandas import DataFrame\n",
    "\n",
    "heart_clean: DataFrame = rename_categorical_vars(\"heart.csv\")\n",
    "heart_clean.to_csv(\"data/heart_clean.csv\", index=None, decimal=\".\")"
   ]
  },
  {
   "cell_type": "markdown",
   "metadata": {},
   "source": [
    ">"
   ]
  }
 ],
 "metadata": {
  "kernelspec": {
   "display_name": "Python 3.10.6 ('bio')",
   "language": "python",
   "name": "python3"
  },
  "language_info": {
   "codemirror_mode": {
    "name": "ipython",
    "version": 3
   },
   "file_extension": ".py",
   "mimetype": "text/x-python",
   "name": "python",
   "nbconvert_exporter": "python",
   "pygments_lexer": "ipython3",
   "version": "3.10.6"
  },
  "orig_nbformat": 4,
  "vscode": {
   "interpreter": {
    "hash": "4f1fc55b9f04a73fa4ff5c00f843f531291d7458662ec01dc13c4844374a88bd"
   }
  }
 },
 "nbformat": 4,
 "nbformat_minor": 2
}
